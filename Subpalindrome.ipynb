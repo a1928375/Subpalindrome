{
 "cells": [
  {
   "cell_type": "markdown",
   "metadata": {},
   "source": [
    "# Mine"
   ]
  },
  {
   "cell_type": "code",
   "execution_count": null,
   "metadata": {},
   "outputs": [],
   "source": [
    "# Write a function, longest_subpalindrome_slice(text) that takes a string as input and returns the i and j indices that \n",
    "# correspond to the beginning and end indices of the longest palindrome in the string. \n",
    "\n"
   ]
  },
  {
   "cell_type": "markdown",
   "metadata": {},
   "source": [
    "# Instructor\n",
    "# very clever"
   ]
  },
  {
   "cell_type": "code",
   "execution_count": 2,
   "metadata": {},
   "outputs": [
    {
     "name": "stdout",
     "output_type": "stream",
     "text": [
      "(0, 5)\n",
      "(7, 9)\n",
      "(0, 7)\n",
      "(0, 7)\n",
      "(0, 7)\n",
      "(8, 21)\n",
      "(0, 5)\n",
      "(0, 15)\n"
     ]
    }
   ],
   "source": [
    "def longest_subpalindrome_slice(text):\n",
    "    \n",
    "    \"Return (i, j) such that text[i:j] is the longest palindrome in text.\"\n",
    "    \n",
    "    if text == '': \n",
    "        \n",
    "        return (0,0)\n",
    "        \n",
    "    text=text.lower()\n",
    "    \n",
    "    candidates = [grow(text,start,end) for start in range(len(text)) for end in (start, start+1)]  #找出在text中的所有位置\n",
    "                  \n",
    "    def length(slice):          # max()的key用的function\n",
    "        \n",
    "        a,b = slice\n",
    "        \n",
    "        return b-a\n",
    "\n",
    "    return max(candidates, key=length)\n",
    "\n",
    "def grow(text, start, end):\n",
    "    \n",
    "    while (start>0 and end<len(text) and text[start-1]==text[end]):           #從所有位置出發 => 依序看前後的字母是否相同 \n",
    "                                                                              # start要>0 => 因為start像是基準點 \n",
    "                                                                              # => 要判斷 text[start-1]\n",
    "                                                                              # start遞減，end遞增\n",
    "        start -= 1; end +=1\n",
    "        \n",
    "    return(start,end)\n",
    "            \n",
    "print (longest_subpalindrome_slice(\"cabac\"))            \n",
    "print (longest_subpalindrome_slice(\"Race carr\"))\n",
    "print (longest_subpalindrome_slice(\"RacecarX\"))\n",
    "print (longest_subpalindrome_slice(\"racecar\"))\n",
    "print (longest_subpalindrome_slice(\"Racecar\"))\n",
    "print (longest_subpalindrome_slice(\"something rac e car going\"))\n",
    "print (longest_subpalindrome_slice(\"xxxxx\"))\n",
    "print (longest_subpalindrome_slice(\"Mad am I ma dam\"))"
   ]
  }
 ],
 "metadata": {
  "kernelspec": {
   "display_name": "Python 3",
   "language": "python",
   "name": "python3"
  },
  "language_info": {
   "codemirror_mode": {
    "name": "ipython",
    "version": 3
   },
   "file_extension": ".py",
   "mimetype": "text/x-python",
   "name": "python",
   "nbconvert_exporter": "python",
   "pygments_lexer": "ipython3",
   "version": "3.7.3"
  }
 },
 "nbformat": 4,
 "nbformat_minor": 2
}
